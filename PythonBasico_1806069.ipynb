{
 "cells": [
  {
   "cell_type": "markdown",
   "metadata": {},
   "source": [
    "# Ejercicio 1\n",
    "### Realiza una variable con tu matricula y realiza una secuencia de imprimir con tu nombre y tu matricula concatenados."
   ]
  },
  {
   "cell_type": "code",
   "execution_count": 118,
   "metadata": {},
   "outputs": [
    {
     "name": "stdout",
     "output_type": "stream",
     "text": [
      "Mi nombre es Tadeo Suarez y mi matricula es 1806069\n"
     ]
    }
   ],
   "source": [
    "T = 1806069 \n",
    "T2 = \"Tadeo Suarez\"\n",
    "Ej1 = \"Mi nombre es \" + T2 + \" y mi matricula es \" + str(T) #https://www.youtube.com/watch?v=8HpB8GSCd84\n",
    "print(Ej1)"
   ]
  },
  {
   "cell_type": "markdown",
   "metadata": {},
   "source": [
    "# Ejercicio 2\n",
    "### Pidiendo el input del usuario pide dos números y crea una pequeña calculadora con los operadores básicos de suma, resta, multiplicación, división, y exponente."
   ]
  },
  {
   "cell_type": "code",
   "execution_count": 119,
   "metadata": {
    "scrolled": true
   },
   "outputs": [
    {
     "name": "stdout",
     "output_type": "stream",
     "text": [
      "Si desea una suma oprima 1\n",
      "Si desea una resta oprima 2\n",
      "Si desea una multiplicacion oprima 3\n",
      "Si desea una division oprima 4 y escriba en el primer numero el numerador y en el segundo el denominador\n",
      "Si desea una exponencial oprima 5 y escriba en el primer numero la base y en el segundo el exponente\n",
      "Oprima el numero de acuerdo a la operacion que desea: 3\n",
      "Introduce el primer número:5\n",
      "Introduce el segundo número: 5\n",
      "El resultado de su operacion es 25.0\n"
     ]
    }
   ],
   "source": [
    "print(\"Si desea una suma oprima 1\")\n",
    "print(\"Si desea una resta oprima 2\")\n",
    "print(\"Si desea una multiplicacion oprima 3\")\n",
    "print(\"Si desea una division oprima 4 y escriba en el primer numero el numerador y en el segundo el denominador\")\n",
    "print(\"Si desea una exponencial oprima 5 y escriba en el primer numero la base y en el segundo el exponente\")\n",
    "D = int(input(\"Oprima el numero de acuerdo a la operacion que desea: \"))\n",
    "a1 = float(input(\"Introduce el primer número:\" ))\n",
    "b1 = float(input(\"Introduce el segundo número: \"))\n",
    "if D==1: \n",
    "    op=a1 + b1\n",
    "elif D==2:\n",
    "    op=a1-b1\n",
    "elif D==3:\n",
    "    op=a1*b1\n",
    "elif D==4:\n",
    "    op=a1/b1\n",
    "elif D==5:\n",
    "    op=a1**b1\n",
    "else:\n",
    "    print (\"Por favor ingrese un numero valido del 1 al 5 acorde a su opercion\")\n",
    "print (\"El resultado de su operacion es\", op)"
   ]
  },
  {
   "cell_type": "markdown",
   "metadata": {},
   "source": [
    "# Ejercicio 3\n",
    "### Con loop while o for, realiza una lista de 10 numeros multiplos de 3, y después realiza una función de loop que sume todos los números dentro del arreglo.\n"
   ]
  },
  {
   "cell_type": "code",
   "execution_count": 120,
   "metadata": {},
   "outputs": [
    {
     "name": "stdout",
     "output_type": "stream",
     "text": [
      "3\n",
      "6\n",
      "9\n",
      "12\n",
      "15\n",
      "18\n",
      "21\n",
      "24\n",
      "27\n",
      "30\n",
      "La suma de estos numeros es de 165\n"
     ]
    }
   ],
   "source": [
    "sum=0\n",
    "for i in range(1,31):\n",
    "    if i%3 == 0:\n",
    "        print (i)\n",
    "        sum=sum+i\n",
    "g=\"La suma de estos numeros es de \" + str(sum)   \n",
    "print(g)"
   ]
  },
  {
   "cell_type": "markdown",
   "metadata": {},
   "source": [
    "# Ejercicio 4\n",
    "### Con una función de if else, revisar si un número es par o es impar.\n",
    "### Con una función de if else, revisar si un número es primo o no."
   ]
  },
  {
   "cell_type": "code",
   "execution_count": 121,
   "metadata": {},
   "outputs": [
    {
     "name": "stdout",
     "output_type": "stream",
     "text": [
      "Ingresa el numero 12\n",
      "El numero 12.0 es par\n"
     ]
    }
   ],
   "source": [
    "x =float(input(\"Ingresa el numero \"))\n",
    "if x%2==0:\n",
    "    par=\"El numero \"+str(x)+\" es par\"\n",
    "else:\n",
    "    par=\"El numero \"+str(x)+\" es impar\"\n",
    "print(par)"
   ]
  },
  {
   "cell_type": "code",
   "execution_count": 122,
   "metadata": {},
   "outputs": [
    {
     "name": "stdout",
     "output_type": "stream",
     "text": [
      "Ingresa el numero 67\n",
      "El numero es primo\n"
     ]
    }
   ],
   "source": [
    "y =int(input(\"Ingresa el numero \"))\n",
    "suma=0\n",
    "for i in range(1,y+1):\n",
    "    if y>1 and y%i ==0:\n",
    "        suma=suma+1\n",
    "if suma==2:\n",
    "    print(\"El numero es primo\")\n",
    "else:\n",
    "     print(\"El numero no es primo\")"
   ]
  },
  {
   "cell_type": "markdown",
   "metadata": {},
   "source": [
    "# Ejercicio 5\n",
    "### Utilizando diferentes clases en python, crea una calculadora con los operadores básicos de suma, resta, multiplicación, división, y exponente."
   ]
  },
  {
   "cell_type": "code",
   "execution_count": 123,
   "metadata": {},
   "outputs": [],
   "source": [
    "class Operaciones:\n",
    "    def suma(self,a,b):\n",
    "        t=\"El resultado es \"+ str(a+b)\n",
    "        print(t)\n",
    "    def resta(self,a,b):\n",
    "        t=\"El resultado es \"+ str(a-b)\n",
    "        print(t)\n",
    "    def multiplicacion(self,a,b):\n",
    "        t=\"El resultado es \"+ str(a*b)\n",
    "        print(t)\n",
    "    def division(self,a,b):\n",
    "        t=\"El resultado es \"+ str(a/b)\n",
    "        print(t)\n",
    "    def exponente(self,a,b):\n",
    "        t=\"El resultado es \"+ str(a**b)\n",
    "        print(t)"
   ]
  },
  {
   "cell_type": "code",
   "execution_count": 124,
   "metadata": {},
   "outputs": [
    {
     "name": "stdout",
     "output_type": "stream",
     "text": [
      "Si desea una suma oprima 1\n",
      "Si desea una resta oprima 2\n",
      "Si desea una multiplicacion oprima 3\n",
      "Si desea una division oprima 4 y escriba en el primer numero el numerador y en el segundo el denominador\n",
      "Si desea una exponencial oprima 5 y escriba en el primer numero la base y en el segundo el exponente\n",
      "Oprima el numero de acuerdo a la operacion que desea: 5\n",
      "Introduce el primer número:2\n",
      "Introduce el segundo número: 3\n",
      "El resultado es 8.0\n"
     ]
    }
   ],
   "source": [
    "u=Operaciones()\n",
    "print(\"Si desea una suma oprima 1\")\n",
    "print(\"Si desea una resta oprima 2\")\n",
    "print(\"Si desea una multiplicacion oprima 3\")\n",
    "print(\"Si desea una division oprima 4 y escriba en el primer numero el numerador y en el segundo el denominador\")\n",
    "print(\"Si desea una exponencial oprima 5 y escriba en el primer numero la base y en el segundo el exponente\")\n",
    "D = int(input(\"Oprima el numero de acuerdo a la operacion que desea: \"))\n",
    "a = float(input(\"Introduce el primer número:\" ))\n",
    "b = float(input(\"Introduce el segundo número: \"))\n",
    "if D==1: \n",
    "    u.suma(a,b)\n",
    "elif D==2:\n",
    "    u.resta(a,b)\n",
    "elif D==3:\n",
    "    u.multiplicacion(a,b)\n",
    "elif D==4:\n",
    "    u.division(a,b)\n",
    "elif D==5:\n",
    "    u.exponente(a,b)\n",
    "else:\n",
    "    print (\"Por favor ingrese un numero valido del 1 al 5 acorde a su opercion\")"
   ]
  },
  {
   "cell_type": "markdown",
   "metadata": {},
   "source": [
    "# Ejercicios con estructuras básicas de python.\n",
    "### Tuplas\n",
    "#### Crear una variable flotante, integer, boleana y compleja e imprimir el tipo de variable que es."
   ]
  },
  {
   "cell_type": "code",
   "execution_count": 125,
   "metadata": {},
   "outputs": [],
   "source": [
    "t=23.06\n",
    "k=21\n",
    "d=False\n",
    "r= 6 + 2j #https://relopezbriega.github.io/blog/2015/10/12/numeros-complejos-con-python/"
   ]
  },
  {
   "cell_type": "code",
   "execution_count": 126,
   "metadata": {},
   "outputs": [
    {
     "data": {
      "text/plain": [
       "float"
      ]
     },
     "execution_count": 126,
     "metadata": {},
     "output_type": "execute_result"
    }
   ],
   "source": [
    "type(t)"
   ]
  },
  {
   "cell_type": "code",
   "execution_count": 127,
   "metadata": {},
   "outputs": [
    {
     "data": {
      "text/plain": [
       "int"
      ]
     },
     "execution_count": 127,
     "metadata": {},
     "output_type": "execute_result"
    }
   ],
   "source": [
    "type(k)"
   ]
  },
  {
   "cell_type": "code",
   "execution_count": 128,
   "metadata": {},
   "outputs": [
    {
     "data": {
      "text/plain": [
       "bool"
      ]
     },
     "execution_count": 128,
     "metadata": {},
     "output_type": "execute_result"
    }
   ],
   "source": [
    "type(d)"
   ]
  },
  {
   "cell_type": "code",
   "execution_count": 129,
   "metadata": {},
   "outputs": [
    {
     "data": {
      "text/plain": [
       "complex"
      ]
     },
     "execution_count": 129,
     "metadata": {},
     "output_type": "execute_result"
    }
   ],
   "source": [
    "type(r)"
   ]
  },
  {
   "cell_type": "markdown",
   "metadata": {},
   "source": [
    "#### Crear una tupla con valores enteros imprimir el primer y ultimo valo"
   ]
  },
  {
   "cell_type": "code",
   "execution_count": 130,
   "metadata": {},
   "outputs": [
    {
     "name": "stdout",
     "output_type": "stream",
     "text": [
      "1 5\n"
     ]
    }
   ],
   "source": [
    "t1=(1,2,3,4,5)\n",
    "print(t1[0],t1[-1])"
   ]
  },
  {
   "cell_type": "markdown",
   "metadata": {},
   "source": [
    "#### Añadir 3 valores de string a la tupla."
   ]
  },
  {
   "cell_type": "code",
   "execution_count": 131,
   "metadata": {},
   "outputs": [
    {
     "data": {
      "text/plain": [
       "(1, 2, 3, 4, 5, 'x', 'y', 'z')"
      ]
     },
     "execution_count": 131,
     "metadata": {},
     "output_type": "execute_result"
    }
   ],
   "source": [
    "t1 = t1.__add__((\"x\",\"y\",\"z\"))\n",
    "t1"
   ]
  },
  {
   "cell_type": "markdown",
   "metadata": {},
   "source": [
    "#### Verificar si una variable existe dentro de la tupla"
   ]
  },
  {
   "cell_type": "code",
   "execution_count": 132,
   "metadata": {},
   "outputs": [
    {
     "name": "stdout",
     "output_type": "stream",
     "text": [
      "Comprobando si el 4 existe en la lista\n",
      "La variable existe en la lista\n"
     ]
    }
   ],
   "source": [
    "print(\"Comprobando si el 4 existe en la lista\") #https://parzibyte.me/blog/2018/04/17/python-comprobar-elemento-valor-existe-lista-arreglo/\n",
    "if 4 in t1:\n",
    "    print(\"La variable existe en la lista\")\n",
    "else: \n",
    "    print(\"La variable no existe en la lista\")"
   ]
  },
  {
   "cell_type": "markdown",
   "metadata": {},
   "source": [
    "### Listas"
   ]
  },
  {
   "cell_type": "markdown",
   "metadata": {},
   "source": [
    "#### Crear una lista con 40 elementos aleatorios enteros."
   ]
  },
  {
   "cell_type": "code",
   "execution_count": 133,
   "metadata": {},
   "outputs": [
    {
     "data": {
      "text/plain": [
       "[71,\n",
       " 93,\n",
       " 24,\n",
       " 47,\n",
       " 32,\n",
       " 95,\n",
       " 42,\n",
       " 2,\n",
       " 56,\n",
       " 77,\n",
       " 26,\n",
       " 73,\n",
       " 73,\n",
       " 67,\n",
       " 4,\n",
       " 5,\n",
       " 98,\n",
       " 47,\n",
       " 89,\n",
       " 30,\n",
       " 52,\n",
       " 38,\n",
       " 27,\n",
       " 25,\n",
       " 43,\n",
       " 92,\n",
       " 20,\n",
       " 66,\n",
       " 77,\n",
       " 50,\n",
       " 25,\n",
       " 29,\n",
       " 28,\n",
       " 78,\n",
       " 77,\n",
       " 88,\n",
       " 2,\n",
       " 33,\n",
       " 5,\n",
       " 36]"
      ]
     },
     "execution_count": 133,
     "metadata": {},
     "output_type": "execute_result"
    }
   ],
   "source": [
    "import random as r\n",
    "aleat=[0]*40\n",
    "for i in range (0,40):\n",
    "    aleat[i]=r.randint(1,100)\n",
    "aleat"
   ]
  },
  {
   "cell_type": "markdown",
   "metadata": {},
   "source": [
    "#### Con una funcion (def) crear dos listas nuevas a partir de la lista creada por numeros aleatorios, en la cual en una esten los elementos pares, y en la otra los elementos impares."
   ]
  },
  {
   "cell_type": "code",
   "execution_count": 134,
   "metadata": {},
   "outputs": [
    {
     "name": "stdout",
     "output_type": "stream",
     "text": [
      "[24, 32, 42, 2, 56, 26, 4, 98, 30, 52, 38, 92, 20, 66, 50, 28, 78, 88, 2, 36]\n",
      "[71, 93, 47, 95, 77, 73, 73, 67, 5, 47, 89, 27, 25, 43, 77, 25, 29, 77, 33, 5]\n"
     ]
    }
   ],
   "source": [
    "    def pares(lista):\n",
    "        par=[]\n",
    "        impar=[]\n",
    "        for i in lista:\n",
    "            if i%2==0:\n",
    "                par.append(i)      \n",
    "            else:\n",
    "                impar.append(i)\n",
    "        print (par)\n",
    "        print (impar)\n",
    "    parimpar=pares(aleat)\n"
   ]
  },
  {
   "cell_type": "markdown",
   "metadata": {},
   "source": [
    "#### Crear dos variables con la longitud de ambas listas nuevas e imprimir las variables."
   ]
  },
  {
   "cell_type": "code",
   "execution_count": null,
   "metadata": {},
   "outputs": [],
   "source": []
  },
  {
   "cell_type": "markdown",
   "metadata": {},
   "source": [
    "#### Ordenar los elementos de la lista par de mayor a menor, y los de la lista impar de menor a mayor."
   ]
  },
  {
   "cell_type": "code",
   "execution_count": 135,
   "metadata": {},
   "outputs": [
    {
     "name": "stdout",
     "output_type": "stream",
     "text": [
      "[98, 92, 88, 78, 66, 56, 52, 50, 42, 38, 36, 32, 30, 28, 26, 24, 20, 4, 2, 2]\n",
      "[5, 5, 25, 25, 27, 29, 33, 43, 47, 47, 67, 71, 73, 73, 77, 77, 77, 89, 93, 95]\n"
     ]
    }
   ],
   "source": [
    "def pares(lista):\n",
    "    par=[]\n",
    "    impar=[]\n",
    "    for i in lista:\n",
    "        if i%2==0:\n",
    "            par.append(i)    \n",
    "            par.sort()\n",
    "            par.reverse()\n",
    "        else:\n",
    "            impar.append(i)\n",
    "            impar.sort()\n",
    "    print (par)\n",
    "    print (impar)\n",
    "parimpar=pares(aleat)"
   ]
  },
  {
   "cell_type": "markdown",
   "metadata": {},
   "source": [
    "#### Utilizar al menos cuatro de las funciones de listas en python en la lista original de 40 elementos."
   ]
  },
  {
   "cell_type": "code",
   "execution_count": 136,
   "metadata": {},
   "outputs": [
    {
     "data": {
      "text/plain": [
       "[2,\n",
       " 2,\n",
       " 4,\n",
       " 5,\n",
       " 5,\n",
       " 20,\n",
       " 20,\n",
       " 24,\n",
       " 25,\n",
       " 25,\n",
       " 26,\n",
       " 27,\n",
       " 28,\n",
       " 29,\n",
       " 30,\n",
       " 32,\n",
       " 33,\n",
       " 36,\n",
       " 38,\n",
       " 42,\n",
       " 43,\n",
       " 47,\n",
       " 47,\n",
       " 50,\n",
       " 52,\n",
       " 56,\n",
       " 66,\n",
       " 67,\n",
       " 71,\n",
       " 73,\n",
       " 73,\n",
       " 77,\n",
       " 77,\n",
       " 77,\n",
       " 78,\n",
       " 88,\n",
       " 89,\n",
       " 92,\n",
       " 93,\n",
       " 95,\n",
       " 98,\n",
       " 1,\n",
       " 3,\n",
       " 5]"
      ]
     },
     "execution_count": 136,
     "metadata": {},
     "output_type": "execute_result"
    }
   ],
   "source": [
    "aleat.append(20)\n",
    "aleat.reverse()\n",
    "aleat.sort()\n",
    "aleat.extend([1,3,5])\n",
    "aleat"
   ]
  },
  {
   "cell_type": "markdown",
   "metadata": {},
   "source": [
    "### Diccionarios"
   ]
  },
  {
   "cell_type": "markdown",
   "metadata": {},
   "source": [
    "#### Crear un diccionario de 6 personas que conozcas con su primer nombre y su edad."
   ]
  },
  {
   "cell_type": "code",
   "execution_count": 137,
   "metadata": {},
   "outputs": [],
   "source": [
    "dict1 = {'Cynthia de la Cruz': 20, 'Daniela Navarro': 20, 'Karla Gamez': 21, \"Rubi Torres\": 21, \"Cesar Leos\": 20, \"Karla Reyes\": 22 }"
   ]
  },
  {
   "cell_type": "markdown",
   "metadata": {},
   "source": [
    "#### Crear una lista con los valores de la edad y reacomodar la lista de menor a mayor valor."
   ]
  },
  {
   "cell_type": "code",
   "execution_count": 138,
   "metadata": {},
   "outputs": [
    {
     "data": {
      "text/plain": [
       "[20, 20, 20, 21, 21, 22]"
      ]
     },
     "execution_count": 138,
     "metadata": {},
     "output_type": "execute_result"
    }
   ],
   "source": [
    "edad=list(dict1.values())\n",
    "edad.sort()\n",
    "edad"
   ]
  },
  {
   "cell_type": "markdown",
   "metadata": {},
   "source": [
    "#### Usando el diccionario y un loop, imprimir solo los nombres"
   ]
  },
  {
   "cell_type": "code",
   "execution_count": 139,
   "metadata": {},
   "outputs": [
    {
     "name": "stdout",
     "output_type": "stream",
     "text": [
      "Cynthia de la Cruz\n",
      "Daniela Navarro\n",
      "Karla Gamez\n",
      "Rubi Torres\n",
      "Cesar Leos\n",
      "Karla Reyes\n"
     ]
    }
   ],
   "source": [
    "for i in dict1:\n",
    "    print(i)"
   ]
  },
  {
   "cell_type": "markdown",
   "metadata": {},
   "source": [
    "#### Añadir dos personas nuevas a tu diccionario, incluyendo edad."
   ]
  },
  {
   "cell_type": "code",
   "execution_count": 140,
   "metadata": {},
   "outputs": [],
   "source": [
    "dict1['Liz Saucedo'] = '22' #http://elclubdelautodidacta.es/wp/2012/08/python-agregar-y-eliminar-elementos-de-un-diccionario/\n",
    "dict1['Valeria Mancias'] = '20'"
   ]
  },
  {
   "cell_type": "markdown",
   "metadata": {},
   "source": [
    "### Sets\n",
    "#### Crea un set con 100 numeros aleatorios enteros del 1 al 25."
   ]
  },
  {
   "cell_type": "code",
   "execution_count": 141,
   "metadata": {},
   "outputs": [
    {
     "data": {
      "text/plain": [
       "{1: 22,\n",
       " 2: 18,\n",
       " 3: 24,\n",
       " 4: 14,\n",
       " 5: 22,\n",
       " 6: 3,\n",
       " 7: 10,\n",
       " 8: 15,\n",
       " 9: 2,\n",
       " 10: 16,\n",
       " 11: 22,\n",
       " 12: 20,\n",
       " 13: 24,\n",
       " 14: 22,\n",
       " 15: 17,\n",
       " 16: 14,\n",
       " 17: 11,\n",
       " 18: 23,\n",
       " 19: 9,\n",
       " 20: 17,\n",
       " 21: 17,\n",
       " 22: 8,\n",
       " 23: 23,\n",
       " 24: 20,\n",
       " 25: 8,\n",
       " 26: 16,\n",
       " 27: 12,\n",
       " 28: 2,\n",
       " 29: 7,\n",
       " 30: 6,\n",
       " 31: 14,\n",
       " 32: 8,\n",
       " 33: 9,\n",
       " 34: 6,\n",
       " 35: 23,\n",
       " 36: 7,\n",
       " 37: 17,\n",
       " 38: 1,\n",
       " 39: 13,\n",
       " 40: 10,\n",
       " 41: 22,\n",
       " 42: 22,\n",
       " 43: 3,\n",
       " 44: 19,\n",
       " 45: 15,\n",
       " 46: 7,\n",
       " 47: 9,\n",
       " 48: 17,\n",
       " 49: 21,\n",
       " 50: 16,\n",
       " 51: 19,\n",
       " 52: 14,\n",
       " 53: 19,\n",
       " 54: 13,\n",
       " 55: 14,\n",
       " 56: 9,\n",
       " 57: 5,\n",
       " 58: 2,\n",
       " 59: 14,\n",
       " 60: 21,\n",
       " 61: 20,\n",
       " 62: 8,\n",
       " 63: 2,\n",
       " 64: 12,\n",
       " 65: 4,\n",
       " 66: 22,\n",
       " 67: 25,\n",
       " 68: 6,\n",
       " 69: 3,\n",
       " 70: 18,\n",
       " 71: 15,\n",
       " 72: 16,\n",
       " 73: 2,\n",
       " 74: 22,\n",
       " 75: 23,\n",
       " 76: 10,\n",
       " 77: 21,\n",
       " 78: 4,\n",
       " 79: 25,\n",
       " 80: 8,\n",
       " 81: 18,\n",
       " 82: 1,\n",
       " 83: 8,\n",
       " 84: 16,\n",
       " 85: 25,\n",
       " 86: 11,\n",
       " 87: 18,\n",
       " 88: 10,\n",
       " 89: 1,\n",
       " 90: 19,\n",
       " 91: 6,\n",
       " 92: 12,\n",
       " 93: 21,\n",
       " 94: 16,\n",
       " 95: 18,\n",
       " 96: 18,\n",
       " 97: 8,\n",
       " 98: 6,\n",
       " 99: 23,\n",
       " 100: 11}"
      ]
     },
     "execution_count": 141,
     "metadata": {},
     "output_type": "execute_result"
    }
   ],
   "source": [
    "import random as r\n",
    "set1={}\n",
    "for i in range (1,101):\n",
    "     set1[i]=r.randint(1,25)\n",
    "set1"
   ]
  },
  {
   "cell_type": "markdown",
   "metadata": {},
   "source": [
    "#### Comprueba la longitud de tu set."
   ]
  },
  {
   "cell_type": "code",
   "execution_count": 142,
   "metadata": {},
   "outputs": [
    {
     "data": {
      "text/plain": [
       "100"
      ]
     },
     "execution_count": 142,
     "metadata": {},
     "output_type": "execute_result"
    }
   ],
   "source": [
    "len(set1)"
   ]
  },
  {
   "cell_type": "markdown",
   "metadata": {},
   "source": [
    "#### Crea una lista de 5 numeros aleatorios del 1 al 10 y comprueba si cada valor aparece en el set inicial."
   ]
  },
  {
   "cell_type": "code",
   "execution_count": 143,
   "metadata": {},
   "outputs": [
    {
     "name": "stdout",
     "output_type": "stream",
     "text": [
      "El valor 8 se encuentra en el set\n",
      "El valor 9 se encuentra en el set\n",
      "El valor 4 se encuentra en el set\n",
      "El valor 10 se encuentra en el set\n",
      "El valor 5 se encuentra en el set\n"
     ]
    }
   ],
   "source": [
    "import random as r\n",
    "aleat=[0]*10\n",
    "for i in range (0,5):\n",
    "    aleat[i]=r.randint(1,10)\n",
    "    aleat\n",
    "for i in range (0,5):\n",
    "    t=aleat[i]\n",
    "    if t in set1:\n",
    "        r = \"El valor \" + str(t) + \" se encuentra en el set\"\n",
    "        print(r)\n"
   ]
  },
  {
   "cell_type": "code",
   "execution_count": null,
   "metadata": {},
   "outputs": [],
   "source": []
  }
 ],
 "metadata": {
  "kernelspec": {
   "display_name": "Python 3",
   "language": "python",
   "name": "python3"
  },
  "language_info": {
   "codemirror_mode": {
    "name": "ipython",
    "version": 3
   },
   "file_extension": ".py",
   "mimetype": "text/x-python",
   "name": "python",
   "nbconvert_exporter": "python",
   "pygments_lexer": "ipython3",
   "version": "3.8.3"
  }
 },
 "nbformat": 4,
 "nbformat_minor": 4
}
