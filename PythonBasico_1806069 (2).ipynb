{
 "cells": [
  {
   "cell_type": "markdown",
   "metadata": {},
   "source": [
    "### Tadeo Alejandro Suárez Martínez #1806069\n",
    "\n",
    "# Ejercicio 1\n",
    "### Realiza una variable con tu matricula y realiza una secuencia de imprimir con tu nombre y tu matricula concatenados."
   ]
  },
  {
   "cell_type": "code",
   "execution_count": 118,
   "metadata": {},
   "outputs": [
    {
     "name": "stdout",
     "output_type": "stream",
     "text": [
      "Mi nombre es Tadeo Suarez y mi matricula es 1806069\n"
     ]
    }
   ],
   "source": [
    "T = 1806069 \n",
    "T2 = \"Tadeo Suarez\"\n",
    "Ej1 = \"Mi nombre es \" + T2 + \" y mi matricula es \" + str(T) #https://www.youtube.com/watch?v=8HpB8GSCd84\n",
    "print(Ej1)"
   ]
  },
  {
   "cell_type": "markdown",
   "metadata": {},
   "source": [
    "# Ejercicio 2\n",
    "### Pidiendo el input del usuario pide dos números y crea una pequeña calculadora con los operadores básicos de suma, resta, multiplicación, división, y exponente."
   ]
  },
  {
   "cell_type": "code",
   "execution_count": 119,
   "metadata": {
    "scrolled": true
   },
   "outputs": [
    {
     "name": "stdout",
     "output_type": "stream",
     "text": [
      "Si desea una suma oprima 1\n",
      "Si desea una resta oprima 2\n",
      "Si desea una multiplicacion oprima 3\n",
      "Si desea una division oprima 4 y escriba en el primer numero el numerador y en el segundo el denominador\n",
      "Si desea una exponencial oprima 5 y escriba en el primer numero la base y en el segundo el exponente\n",
      "Oprima el numero de acuerdo a la operacion que desea: 3\n",
      "Introduce el primer número:5\n",
      "Introduce el segundo número: 5\n",
      "El resultado de su operacion es 25.0\n"
     ]
    }
   ],
   "source": [
    "print(\"Si desea una suma oprima 1\")\n",
    "print(\"Si desea una resta oprima 2\")\n",
    "print(\"Si desea una multiplicacion oprima 3\")\n",
    "print(\"Si desea una division oprima 4 y escriba en el primer numero el numerador y en el segundo el denominador\")\n",
    "print(\"Si desea una exponencial oprima 5 y escriba en el primer numero la base y en el segundo el exponente\")\n",
    "D = int(input(\"Oprima el numero de acuerdo a la operacion que desea: \"))\n",
    "a1 = float(input(\"Introduce el primer número:\" ))\n",
    "b1 = float(input(\"Introduce el segundo número: \"))\n",
    "if D==1: \n",
    "    op=a1 + b1\n",
    "elif D==2:\n",
    "    op=a1-b1\n",
    "elif D==3:\n",
    "    op=a1*b1\n",
    "elif D==4:\n",
    "    op=a1/b1\n",
    "elif D==5:\n",
    "    op=a1**b1\n",
    "else:\n",
    "    print (\"Por favor ingrese un numero valido del 1 al 5 acorde a su opercion\")\n",
    "print (\"El resultado de su operacion es\", op)"
   ]
  },
  {
   "cell_type": "markdown",
   "metadata": {},
   "source": [
    "# Ejercicio 3\n",
    "### Con loop while o for, realiza una lista de 10 numeros multiplos de 3, y después realiza una función de loop que sume todos los números dentro del arreglo.\n"
   ]
  },
  {
   "cell_type": "code",
   "execution_count": 120,
   "metadata": {},
   "outputs": [
    {
     "name": "stdout",
     "output_type": "stream",
     "text": [
      "3\n",
      "6\n",
      "9\n",
      "12\n",
      "15\n",
      "18\n",
      "21\n",
      "24\n",
      "27\n",
      "30\n",
      "La suma de estos numeros es de 165\n"
     ]
    }
   ],
   "source": [
    "sum=0\n",
    "for i in range(1,31):\n",
    "    if i%3 == 0:\n",
    "        print (i)\n",
    "        sum=sum+i\n",
    "g=\"La suma de estos numeros es de \" + str(sum)   \n",
    "print(g)"
   ]
  },
  {
   "cell_type": "markdown",
   "metadata": {},
   "source": [
    "# Ejercicio 4\n",
    "### Con una función de if else, revisar si un número es par o es impar.\n",
    "### Con una función de if else, revisar si un número es primo o no."
   ]
  },
  {
   "cell_type": "code",
   "execution_count": 121,
   "metadata": {},
   "outputs": [
    {
     "name": "stdout",
     "output_type": "stream",
     "text": [
      "Ingresa el numero 12\n",
      "El numero 12.0 es par\n"
     ]
    }
   ],
   "source": [
    "x =float(input(\"Ingresa el numero \"))\n",
    "if x%2==0:\n",
    "    par=\"El numero \"+str(x)+\" es par\"\n",
    "else:\n",
    "    par=\"El numero \"+str(x)+\" es impar\"\n",
    "print(par)"
   ]
  },
  {
   "cell_type": "code",
   "execution_count": 122,
   "metadata": {},
   "outputs": [
    {
     "name": "stdout",
     "output_type": "stream",
     "text": [
      "Ingresa el numero 67\n",
      "El numero es primo\n"
     ]
    }
   ],
   "source": [
    "y =int(input(\"Ingresa el numero \"))\n",
    "suma=0\n",
    "for i in range(1,y+1):\n",
    "    if y>1 and y%i ==0:\n",
    "        suma=suma+1\n",
    "if suma==2:\n",
    "    print(\"El numero es primo\")\n",
    "else:\n",
    "     print(\"El numero no es primo\")"
   ]
  },
  {
   "cell_type": "markdown",
   "metadata": {},
   "source": [
    "# Ejercicio 5\n",
    "### Utilizando diferentes clases en python, crea una calculadora con los operadores básicos de suma, resta, multiplicación, división, y exponente."
   ]
  },
  {
   "cell_type": "code",
   "execution_count": 123,
   "metadata": {},
   "outputs": [],
   "source": [
    "class Operaciones:\n",
    "    def suma(self,a,b):\n",
    "        t=\"El resultado es \"+ str(a+b)\n",
    "        print(t)\n",
    "    def resta(self,a,b):\n",
    "        t=\"El resultado es \"+ str(a-b)\n",
    "        print(t)\n",
    "    def multiplicacion(self,a,b):\n",
    "        t=\"El resultado es \"+ str(a*b)\n",
    "        print(t)\n",
    "    def division(self,a,b):\n",
    "        t=\"El resultado es \"+ str(a/b)\n",
    "        print(t)\n",
    "    def exponente(self,a,b):\n",
    "        t=\"El resultado es \"+ str(a**b)\n",
    "        print(t)"
   ]
  },
  {
   "cell_type": "code",
   "execution_count": 124,
   "metadata": {},
   "outputs": [
    {
     "name": "stdout",
     "output_type": "stream",
     "text": [
      "Si desea una suma oprima 1\n",
      "Si desea una resta oprima 2\n",
      "Si desea una multiplicacion oprima 3\n",
      "Si desea una division oprima 4 y escriba en el primer numero el numerador y en el segundo el denominador\n",
      "Si desea una exponencial oprima 5 y escriba en el primer numero la base y en el segundo el exponente\n",
      "Oprima el numero de acuerdo a la operacion que desea: 5\n",
      "Introduce el primer número:2\n",
      "Introduce el segundo número: 3\n",
      "El resultado es 8.0\n"
     ]
    }
   ],
   "source": [
    "u=Operaciones()\n",
    "print(\"Si desea una suma oprima 1\")\n",
    "print(\"Si desea una resta oprima 2\")\n",
    "print(\"Si desea una multiplicacion oprima 3\")\n",
    "print(\"Si desea una division oprima 4 y escriba en el primer numero el numerador y en el segundo el denominador\")\n",
    "print(\"Si desea una exponencial oprima 5 y escriba en el primer numero la base y en el segundo el exponente\")\n",
    "D = int(input(\"Oprima el numero de acuerdo a la operacion que desea: \"))\n",
    "a = float(input(\"Introduce el primer número:\" ))\n",
    "b = float(input(\"Introduce el segundo número: \"))\n",
    "if D==1: \n",
    "    u.suma(a,b)\n",
    "elif D==2:\n",
    "    u.resta(a,b)\n",
    "elif D==3:\n",
    "    u.multiplicacion(a,b)\n",
    "elif D==4:\n",
    "    u.division(a,b)\n",
    "elif D==5:\n",
    "    u.exponente(a,b)\n",
    "else:\n",
    "    print (\"Por favor ingrese un numero valido del 1 al 5 acorde a su opercion\")"
   ]
  },
  {
   "cell_type": "markdown",
   "metadata": {},
   "source": [
    "# Ejercicios con estructuras básicas de python.\n",
    "### Tuplas\n",
    "#### Crear una variable flotante, integer, boleana y compleja e imprimir el tipo de variable que es."
   ]
  },
  {
   "cell_type": "code",
   "execution_count": 125,
   "metadata": {},
   "outputs": [],
   "source": [
    "t=23.06\n",
    "k=21\n",
    "d=False\n",
    "r= 6 + 2j #https://relopezbriega.github.io/blog/2015/10/12/numeros-complejos-con-python/"
   ]
  },
  {
   "cell_type": "code",
   "execution_count": 126,
   "metadata": {},
   "outputs": [
    {
     "data": {
      "text/plain": [
       "float"
      ]
     },
     "execution_count": 126,
     "metadata": {},
     "output_type": "execute_result"
    }
   ],
   "source": [
    "type(t)"
   ]
  },
  {
   "cell_type": "code",
   "execution_count": 127,
   "metadata": {},
   "outputs": [
    {
     "data": {
      "text/plain": [
       "int"
      ]
     },
     "execution_count": 127,
     "metadata": {},
     "output_type": "execute_result"
    }
   ],
   "source": [
    "type(k)"
   ]
  },
  {
   "cell_type": "code",
   "execution_count": 128,
   "metadata": {},
   "outputs": [
    {
     "data": {
      "text/plain": [
       "bool"
      ]
     },
     "execution_count": 128,
     "metadata": {},
     "output_type": "execute_result"
    }
   ],
   "source": [
    "type(d)"
   ]
  },
  {
   "cell_type": "code",
   "execution_count": 129,
   "metadata": {},
   "outputs": [
    {
     "data": {
      "text/plain": [
       "complex"
      ]
     },
     "execution_count": 129,
     "metadata": {},
     "output_type": "execute_result"
    }
   ],
   "source": [
    "type(r)"
   ]
  },
  {
   "cell_type": "markdown",
   "metadata": {},
   "source": [
    "#### Crear una tupla con valores enteros imprimir el primer y ultimo valo"
   ]
  },
  {
   "cell_type": "code",
   "execution_count": 130,
   "metadata": {},
   "outputs": [
    {
     "name": "stdout",
     "output_type": "stream",
     "text": [
      "1 5\n"
     ]
    }
   ],
   "source": [
    "t1=(1,2,3,4,5)\n",
    "print(t1[0],t1[-1])"
   ]
  },
  {
   "cell_type": "markdown",
   "metadata": {},
   "source": [
    "#### Añadir 3 valores de string a la tupla."
   ]
  },
  {
   "cell_type": "code",
   "execution_count": 131,
   "metadata": {},
   "outputs": [
    {
     "data": {
      "text/plain": [
       "(1, 2, 3, 4, 5, 'x', 'y', 'z')"
      ]
     },
     "execution_count": 131,
     "metadata": {},
     "output_type": "execute_result"
    }
   ],
   "source": [
    "t1 = t1.__add__((\"x\",\"y\",\"z\"))\n",
    "t1"
   ]
  },
  {
   "cell_type": "markdown",
   "metadata": {},
   "source": [
    "#### Verificar si una variable existe dentro de la tupla"
   ]
  },
  {
   "cell_type": "code",
   "execution_count": 132,
   "metadata": {},
   "outputs": [
    {
     "name": "stdout",
     "output_type": "stream",
     "text": [
      "Comprobando si el 4 existe en la lista\n",
      "La variable existe en la lista\n"
     ]
    }
   ],
   "source": [
    "print(\"Comprobando si el 4 existe en la lista\") #https://parzibyte.me/blog/2018/04/17/python-comprobar-elemento-valor-existe-lista-arreglo/\n",
    "if 4 in t1:\n",
    "    print(\"La variable existe en la lista\")\n",
    "else: \n",
    "    print(\"La variable no existe en la lista\")"
   ]
  },
  {
   "cell_type": "markdown",
   "metadata": {},
   "source": [
    "### Listas"
   ]
  },
  {
   "cell_type": "markdown",
   "metadata": {},
   "source": [
    "#### Crear una lista con 40 elementos aleatorios enteros."
   ]
  },
  {
   "cell_type": "code",
   "execution_count": 12,
   "metadata": {},
   "outputs": [
    {
     "data": {
      "text/plain": [
       "[15,\n",
       " 60,\n",
       " 42,\n",
       " 12,\n",
       " 72,\n",
       " 15,\n",
       " 72,\n",
       " 81,\n",
       " 38,\n",
       " 83,\n",
       " 98,\n",
       " 20,\n",
       " 9,\n",
       " 97,\n",
       " 75,\n",
       " 46,\n",
       " 11,\n",
       " 90,\n",
       " 61,\n",
       " 71,\n",
       " 66,\n",
       " 84,\n",
       " 50,\n",
       " 86,\n",
       " 27,\n",
       " 66,\n",
       " 93,\n",
       " 39,\n",
       " 77,\n",
       " 79,\n",
       " 3,\n",
       " 77,\n",
       " 46,\n",
       " 70,\n",
       " 73,\n",
       " 9,\n",
       " 35,\n",
       " 52,\n",
       " 70,\n",
       " 37]"
      ]
     },
     "execution_count": 12,
     "metadata": {},
     "output_type": "execute_result"
    }
   ],
   "source": [
    "import random as r\n",
    "aleat=[0]*40\n",
    "for i in range (0,40):\n",
    "    aleat[i]=r.randint(1,100)\n",
    "aleat"
   ]
  },
  {
   "cell_type": "markdown",
   "metadata": {},
   "source": [
    "#### Con una funcion (def) crear dos listas nuevas a partir de la lista creada por numeros aleatorios, en la cual en una esten los elementos pares, y en la otra los elementos impares."
   ]
  },
  {
   "cell_type": "code",
   "execution_count": 13,
   "metadata": {},
   "outputs": [
    {
     "name": "stdout",
     "output_type": "stream",
     "text": [
      "[60, 42, 12, 72, 72, 38, 98, 20, 46, 90, 66, 84, 50, 86, 66, 46, 70, 52, 70]\n",
      "[15, 15, 81, 83, 9, 97, 75, 11, 61, 71, 27, 93, 39, 77, 79, 3, 77, 73, 9, 35, 37]\n"
     ]
    }
   ],
   "source": [
    "def pares(lista):\n",
    "    par=[]\n",
    "    impar=[]\n",
    "    for i in lista:\n",
    "        if i%2==0:\n",
    "            par.append(i)      \n",
    "        else:\n",
    "            impar.append(i)\n",
    "    return par,impar\n",
    "par, impar=pares(aleat)\n",
    "print(par)\n",
    "print(impar)"
   ]
  },
  {
   "cell_type": "markdown",
   "metadata": {},
   "source": [
    "#### Crear dos variables con la longitud de ambas listas nuevas e imprimir las variables."
   ]
  },
  {
   "cell_type": "code",
   "execution_count": 14,
   "metadata": {},
   "outputs": [
    {
     "name": "stdout",
     "output_type": "stream",
     "text": [
      "19\n",
      "21\n"
     ]
    }
   ],
   "source": [
    "lonpar= len(par)\n",
    "lonimpar= len(impar)\n",
    "print(lonpar)\n",
    "print(lonimpar)"
   ]
  },
  {
   "cell_type": "markdown",
   "metadata": {},
   "source": [
    "#### Ordenar los elementos de la lista par de mayor a menor, y los de la lista impar de menor a mayor."
   ]
  },
  {
   "cell_type": "code",
   "execution_count": 16,
   "metadata": {},
   "outputs": [
    {
     "name": "stdout",
     "output_type": "stream",
     "text": [
      "[98, 90, 86, 84, 72, 72, 70, 70, 66, 66, 60, 52, 50, 46, 46, 42, 38, 20, 12]\n",
      "[3, 9, 9, 11, 15, 15, 27, 35, 37, 39, 61, 71, 73, 75, 77, 77, 79, 81, 83, 93, 97]\n"
     ]
    }
   ],
   "source": [
    "par.sort()\n",
    "par.reverse()\n",
    "impar.sort()\n",
    "   \n",
    "print (par)\n",
    "print (impar)"
   ]
  },
  {
   "cell_type": "markdown",
   "metadata": {},
   "source": [
    "#### Utilizar al menos cuatro de las funciones de listas en python en la lista original de 40 elementos."
   ]
  },
  {
   "cell_type": "code",
   "execution_count": 136,
   "metadata": {},
   "outputs": [
    {
     "data": {
      "text/plain": [
       "[2,\n",
       " 2,\n",
       " 4,\n",
       " 5,\n",
       " 5,\n",
       " 20,\n",
       " 20,\n",
       " 24,\n",
       " 25,\n",
       " 25,\n",
       " 26,\n",
       " 27,\n",
       " 28,\n",
       " 29,\n",
       " 30,\n",
       " 32,\n",
       " 33,\n",
       " 36,\n",
       " 38,\n",
       " 42,\n",
       " 43,\n",
       " 47,\n",
       " 47,\n",
       " 50,\n",
       " 52,\n",
       " 56,\n",
       " 66,\n",
       " 67,\n",
       " 71,\n",
       " 73,\n",
       " 73,\n",
       " 77,\n",
       " 77,\n",
       " 77,\n",
       " 78,\n",
       " 88,\n",
       " 89,\n",
       " 92,\n",
       " 93,\n",
       " 95,\n",
       " 98,\n",
       " 1,\n",
       " 3,\n",
       " 5]"
      ]
     },
     "execution_count": 136,
     "metadata": {},
     "output_type": "execute_result"
    }
   ],
   "source": [
    "aleat.append(20) #agregamos 20\n",
    "aleat.reverse()  #la invertimos\n",
    "aleat.sort()     #la ordenamos de menor a mayor\n",
    "aleat.extend([1,3,5])#La extendemos con los siguientes numeros\n",
    "aleat"
   ]
  },
  {
   "cell_type": "markdown",
   "metadata": {},
   "source": [
    "### Diccionarios"
   ]
  },
  {
   "cell_type": "markdown",
   "metadata": {},
   "source": [
    "#### Crear un diccionario de 6 personas que conozcas con su primer nombre y su edad."
   ]
  },
  {
   "cell_type": "code",
   "execution_count": 137,
   "metadata": {},
   "outputs": [],
   "source": [
    "dict1 = {'Cynthia de la Cruz': 20, 'Daniela Navarro': 20, 'Karla Gamez': 21, \"Rubi Torres\": 21, \"Cesar Leos\": 20, \"Karla Reyes\": 22 }"
   ]
  },
  {
   "cell_type": "markdown",
   "metadata": {},
   "source": [
    "#### Crear una lista con los valores de la edad y reacomodar la lista de menor a mayor valor."
   ]
  },
  {
   "cell_type": "code",
   "execution_count": 138,
   "metadata": {},
   "outputs": [
    {
     "data": {
      "text/plain": [
       "[20, 20, 20, 21, 21, 22]"
      ]
     },
     "execution_count": 138,
     "metadata": {},
     "output_type": "execute_result"
    }
   ],
   "source": [
    "edad=list(dict1.values())\n",
    "edad.sort()\n",
    "edad"
   ]
  },
  {
   "cell_type": "markdown",
   "metadata": {},
   "source": [
    "#### Usando el diccionario y un loop, imprimir solo los nombres"
   ]
  },
  {
   "cell_type": "code",
   "execution_count": 139,
   "metadata": {},
   "outputs": [
    {
     "name": "stdout",
     "output_type": "stream",
     "text": [
      "Cynthia de la Cruz\n",
      "Daniela Navarro\n",
      "Karla Gamez\n",
      "Rubi Torres\n",
      "Cesar Leos\n",
      "Karla Reyes\n"
     ]
    }
   ],
   "source": [
    "for i in dict1:\n",
    "    print(i)"
   ]
  },
  {
   "cell_type": "markdown",
   "metadata": {},
   "source": [
    "#### Añadir dos personas nuevas a tu diccionario, incluyendo edad."
   ]
  },
  {
   "cell_type": "code",
   "execution_count": 140,
   "metadata": {},
   "outputs": [],
   "source": [
    "dict1['Liz Saucedo'] = '22' #http://elclubdelautodidacta.es/wp/2012/08/python-agregar-y-eliminar-elementos-de-un-diccionario/\n",
    "dict1['Valeria Mancias'] = '20'"
   ]
  },
  {
   "cell_type": "markdown",
   "metadata": {},
   "source": [
    "### Sets\n",
    "#### Crea un set con 100 numeros aleatorios enteros del 1 al 25."
   ]
  },
  {
   "cell_type": "code",
   "execution_count": 37,
   "metadata": {},
   "outputs": [
    {
     "data": {
      "text/plain": [
       "{1,\n",
       " 2,\n",
       " 3,\n",
       " 4,\n",
       " 5,\n",
       " 6,\n",
       " 7,\n",
       " 8,\n",
       " 9,\n",
       " 10,\n",
       " 11,\n",
       " 12,\n",
       " 13,\n",
       " 14,\n",
       " 15,\n",
       " 16,\n",
       " 17,\n",
       " 18,\n",
       " 19,\n",
       " 20,\n",
       " 21,\n",
       " 22,\n",
       " 23,\n",
       " 24,\n",
       " 25}"
      ]
     },
     "execution_count": 37,
     "metadata": {},
     "output_type": "execute_result"
    }
   ],
   "source": [
    "from random import randint\n",
    "set={randint(1, 25) for i in range(100)}\n",
    "set"
   ]
  },
  {
   "cell_type": "markdown",
   "metadata": {},
   "source": [
    "#### Comprueba la longitud de tu set."
   ]
  },
  {
   "cell_type": "code",
   "execution_count": 38,
   "metadata": {},
   "outputs": [
    {
     "data": {
      "text/plain": [
       "25"
      ]
     },
     "execution_count": 38,
     "metadata": {},
     "output_type": "execute_result"
    }
   ],
   "source": [
    "len(set)"
   ]
  },
  {
   "cell_type": "markdown",
   "metadata": {},
   "source": [
    "#### Crea una lista de 5 numeros aleatorios del 1 al 10 y comprueba si cada valor aparece en el set inicial."
   ]
  },
  {
   "cell_type": "code",
   "execution_count": 40,
   "metadata": {},
   "outputs": [
    {
     "name": "stdout",
     "output_type": "stream",
     "text": [
      "El valor 2 se encuentra en el set\n",
      "El valor 5 se encuentra en el set\n",
      "El valor 7 se encuentra en el set\n",
      "El valor 8 se encuentra en el set\n",
      "El valor 10 se encuentra en el set\n"
     ]
    }
   ],
   "source": [
    "import random as r\n",
    "aleat=[0]*5\n",
    "for i in range (0,5):\n",
    "    aleat[i]=r.randint(1,10)\n",
    "    aleat\n",
    "for i in range (0,5):\n",
    "    t=aleat[i]\n",
    "    if t in set:\n",
    "        r = \"El valor \" + str(t) + \" se encuentra en el set\"\n",
    "        print(r)\n"
   ]
  },
  {
   "cell_type": "code",
   "execution_count": null,
   "metadata": {},
   "outputs": [],
   "source": []
  },
  {
   "cell_type": "code",
   "execution_count": null,
   "metadata": {},
   "outputs": [],
   "source": []
  }
 ],
 "metadata": {
  "kernelspec": {
   "display_name": "Python 3",
   "language": "python",
   "name": "python3"
  },
  "language_info": {
   "codemirror_mode": {
    "name": "ipython",
    "version": 3
   },
   "file_extension": ".py",
   "mimetype": "text/x-python",
   "name": "python",
   "nbconvert_exporter": "python",
   "pygments_lexer": "ipython3",
   "version": "3.8.3"
  }
 },
 "nbformat": 4,
 "nbformat_minor": 4
}
